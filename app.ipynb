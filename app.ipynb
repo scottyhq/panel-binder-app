{
 "cells": [
  {
   "cell_type": "code",
   "execution_count": null,
   "metadata": {},
   "outputs": [],
   "source": [
    "from holoviews.streams import PointDraw\n",
    "from holoviews.plotting.links import DataLink\n",
    "import holoviews as hv\n",
    "import panel as pn\n",
    "#pn.extension() #not sure what this does...\n",
    "import hvplot.xarray\n",
    "import hvplot.pandas\n",
    "from shapely.geometry import LineString\n",
    "import xarray as xr\n",
    "import geopandas as gpd\n",
    "import numpy as np\n",
    "import os"
   ]
  },
  {
   "cell_type": "code",
   "execution_count": null,
   "metadata": {},
   "outputs": [],
   "source": [
    "image = 's3://my-cog-server/greenland_vel_mosaic500_2000_2001_vv_v02.1_cog.tif'\n",
    "da = xr.open_rasterio(image, \n",
    "                      chunks=dict(x=1024,y=1024)\n",
    "                     )"
   ]
  },
  {
   "cell_type": "code",
   "execution_count": null,
   "metadata": {},
   "outputs": [],
   "source": [
    "da = da.where(da !=-1, np.nan ) #for velocity magnitude\n",
    "#da = da.where(da !=-2e9, np.nan ) # vx"
   ]
  },
  {
   "cell_type": "code",
   "execution_count": null,
   "metadata": {},
   "outputs": [],
   "source": [
    "minx, maxx = da.coords['x'].values[[0,-1]]\n",
    "maxy, miny = da.coords['y'].values[[0,-1]]\n",
    "midx = (maxx+minx)/2\n",
    "midy = (maxy+miny)/2"
   ]
  },
  {
   "cell_type": "code",
   "execution_count": null,
   "metadata": {},
   "outputs": [],
   "source": [
    "# Create a linked profile plot - points extents should match image (left, bottom, right and top)\n",
    "# #not sure logz is implemented/fixed https://github.com/pyviz/holoviews/issues/2195\n",
    "title = os.path.basename(image)\n",
    "img = da.sel(band=1).hvplot.image(rasterize=True).opts(title=title, \n",
    "                                                      width=500, height=700,\n",
    "                                                      #cmap='bwr', # for vx or vy\n",
    "                                                      #clim=(-3e3, 3e3), \n",
    "                                                      cmap='viridis',\n",
    "                                                      clim=(0,3e3),\n",
    "                                                      active_tools=['point_draw'])\n",
    "extent = (minx, miny, maxx, maxy)\n",
    "\n",
    "initPoints = ([-187528, -167767],[-2366098, -2213674])\n",
    "points = hv.Points(initPoints, extents=extent).opts(size=12) #geoviews requires CRS (if we want a tiled basemap)\n",
    "table = hv.Table(points, ['x', 'y']).opts(editable=True)\n",
    "DataLink(points, table)\n",
    "point_stream = PointDraw(source=points, data=points.columns(), num_objects=2)\n",
    "\n",
    "@pn.depends(point_stream.param.data)\n",
    "def plotProfile(data, ds=1000):\n",
    "    gdf = gpd.GeoDataFrame(geometry=gpd.points_from_xy(data['x'], data['y']), \n",
    "                       crs={'init' :'epsg:3413'}) # Double check EPSG code\n",
    "    \n",
    "    gf = gpd.GeoDataFrame(geometry=[LineString(gdf.geometry)], \n",
    "                      crs={'init' :'epsg:3413'})\n",
    "    sgeom = gf.geometry.values[0]\n",
    "    \n",
    "    distances = np.arange(0, gf.geometry.length.values[0]+ds, ds) \n",
    "    points = [sgeom.interpolate(x) for x in distances]\n",
    "    xs = xr.DataArray([p.x for p in points], dims='distance', coords=[distances])\n",
    "    ys = xr.DataArray([p.y for p in points], dims='distance', coords=[distances])\n",
    "    das = da.sel(band=1, x=xs, y=ys, method='nearest')\n",
    "    df = das.drop('band').to_dataframe(name='velocity')\n",
    "    #df = get_profile(point_stream, ds=1000)\n",
    "    profile = df.hvplot.scatter(y='velocity', logy=True).opts(title=title,\n",
    "                                                              xlabel='Distance (m)',\n",
    "                                                              ylabel='Velocity magnitude (m/yr)',\n",
    "                                                              width=500, height=300)\n",
    "    \n",
    "    return profile\n",
    "\n",
    "app = pn.Row(img*points, pn.Column(table, plotProfile))"
   ]
  },
  {
   "cell_type": "code",
   "execution_count": null,
   "metadata": {},
   "outputs": [],
   "source": [
    "app.servable();"
   ]
  },
  {
   "cell_type": "code",
   "execution_count": null,
   "metadata": {},
   "outputs": [],
   "source": []
  }
 ],
 "metadata": {
  "kernelspec": {
   "display_name": "Python 3",
   "language": "python",
   "name": "python3"
  },
  "language_info": {
   "codemirror_mode": {
    "name": "ipython",
    "version": 3
   },
   "file_extension": ".py",
   "mimetype": "text/x-python",
   "name": "python",
   "nbconvert_exporter": "python",
   "pygments_lexer": "ipython3",
   "version": "3.8.6"
  }
 },
 "nbformat": 4,
 "nbformat_minor": 4
}
